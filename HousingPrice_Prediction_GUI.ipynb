{
 "cells": [
  {
   "cell_type": "markdown",
   "metadata": {},
   "source": [
    "## Housing Price Prediction Model "
   ]
  },
  {
   "cell_type": "code",
   "execution_count": 19,
   "metadata": {},
   "outputs": [],
   "source": [
    "import pandas as pd\n",
    "import numpy as np\n",
    "import tkinter as tk\n",
    "import warnings\n",
    "warnings.filterwarnings('ignore')\n"
   ]
  },
  {
   "cell_type": "code",
   "execution_count": 20,
   "metadata": {},
   "outputs": [],
   "source": [
    "model = pd.read_pickle('HousePricePredictor')"
   ]
  },
  {
   "cell_type": "code",
   "execution_count": 38,
   "metadata": {},
   "outputs": [],
   "source": [
    "import math\n",
    "\n",
    "root=tk.Tk()\n",
    "root.config(bg=\"white\")\n",
    "root.geometry('500x330')\n",
    "root.title(\"HousePricePredictor\")\n",
    "# Photo = PhotoImage(file='images1.jpg')\n",
    "# photo_Label = Label(image=Photo)\n",
    "# photo_Label.pack()\n",
    "\n",
    "tk.Label(root,text='House Price Predictor',bg='#033054',fg='White',font=('goudy old style',15,'bold')).place(x=0,y=0,relwidth=1)\n",
    "tk.Label(root,width=15,text=\"Area Income\",fg=\"black\",bg=\"white\",font=('goudy old style',15,'bold')).place(x=15,y=40)\n",
    "tk.Label(root,width=15,text=\"Area House Age\",fg=\"black\",bg=\"white\",font=('goudy old style',15,'bold')).place(x=15,y=70)\n",
    "tk.Label(root,width=15,text=\"Number of Rooms\",fg=\"black\",bg=\"white\",font=('goudy old style',15,'bold')).place(x=15,y=100)\n",
    "tk.Label(root,width=15,text=\"Number of Bedrooms\",fg=\"black\",bg=\"white\",font=('goudy old style',15,'bold')).place(x=15,y=130)\n",
    "tk.Label(root,width=15,text=\"Area Population\",fg=\"black\",bg=\"white\",font=('goudy old style',15,'bold')).place(x=15,y=160)\n",
    "tk.Label(root,width=15,text=\"House Price :\",bg=\"light blue\",fg='green',font=(\"Helvetica\", 15,\"bold\")).place(x=20,y=280)\n",
    "\n",
    "\n",
    "area_income=tk.Variable(root)\n",
    "house_age=tk.Variable(root)\n",
    "rooms=tk.Variable(root)\n",
    "bedrooms=tk.Variable(root)\n",
    "population=tk.Variable(root)\n",
    "\n",
    "tk.Entry(root,width=25,textvariable=area_income,font=('Arial',10),bg='light yellow').place(x=200,y=40)\n",
    "tk.Entry(root,width=25,textvariable=house_age,font=('Arial',10),bg='light yellow').place(x=200,y=70)\n",
    "tk.Entry(root,width=25,textvariable=rooms,bg='light yellow',font=('Arial',10)).place(x=200,y=100)\n",
    "tk.Entry(root,width=25,textvariable=bedrooms,bg='light yellow',font=('Arial',10)).place(x=200,y=130)\n",
    "tk.Entry(root,width=25,textvariable=population,bg='light yellow',font=('Arial',10)).place(x=200,y=160)\n",
    "predict_var = tk.Variable(root)\n",
    "tk.Label(root,textvariable=predict_var,fg=\"crimson\",bg='white',font=(\"Helvetica\", 15,\"bold\")).place(x=230,y=280)\n",
    "def predict():\n",
    "    a=area_income.get()\n",
    "    b=house_age.get()\n",
    "    c=rooms.get()\n",
    "    br = bedrooms.get()\n",
    "    d=population.get()\n",
    "    query = pd.DataFrame({'Avg. Area Income':[a],'Avg. Area House Age':[b],\n",
    "                      'Avg. Area Number of Rooms':[c],'Avg. Area Number of Bedrooms':[bedrooms],'Area Population':[d]})\n",
    "    #n=\"%.1f$'%(model.predict(query)[0])\"\n",
    "    e=model.predict(query)[0]\n",
    "    predict_var.set(\"{0:.1f}$\".format(e))\n",
    "    area_income.set('')\n",
    "    house_age.set('')\n",
    "    rooms.set('')\n",
    "    bedrooms.set('')\n",
    "    population.set('')\n",
    "    \n",
    "    \n",
    "    \n",
    "    \n",
    "tk.Button(root,text=\"Predict Price\",command=predict,bg=\"#033054\",fg=\"white\",font=('Times new Roman',13,'bold'),cursor='hand2').place(x=170,y=220) \n",
    "root.mainloop()"
   ]
  },
  {
   "cell_type": "code",
   "execution_count": null,
   "metadata": {},
   "outputs": [],
   "source": []
  }
 ],
 "metadata": {
  "kernelspec": {
   "display_name": "Python 3",
   "language": "python",
   "name": "python3"
  },
  "language_info": {
   "codemirror_mode": {
    "name": "ipython",
    "version": 3
   },
   "file_extension": ".py",
   "mimetype": "text/x-python",
   "name": "python",
   "nbconvert_exporter": "python",
   "pygments_lexer": "ipython3",
   "version": "3.7.3"
  }
 },
 "nbformat": 4,
 "nbformat_minor": 4
}
